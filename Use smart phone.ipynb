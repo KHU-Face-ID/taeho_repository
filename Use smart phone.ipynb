{
 "cells": [
  {
   "cell_type": "code",
   "execution_count": 1,
   "metadata": {},
   "outputs": [],
   "source": [
    "import urllib.request\n",
    "import cv2\n",
    "import numpy as np\n",
    "import time\n",
    "URL = \"http://192.168.0.3:8080/shot.jpg\"\n",
    "while True:\n",
    "    img_arr = np.array(bytearray(urllib.request.urlopen(URL).read()),dtype=np.uint8)\n",
    "    img = cv2.imdecode(img_arr,-1)\n",
    "    cv2.imshow('IPWebcam',img)\n",
    "    \n",
    "    if cv2.waitKey(1) & 0xFF == ord('q'):\n",
    "        break"
   ]
  }
 ],
 "metadata": {
  "kernelspec": {
   "display_name": "Python 3",
   "language": "python",
   "name": "python3"
  },
  "language_info": {
   "codemirror_mode": {
    "name": "ipython",
    "version": 3
   },
   "file_extension": ".py",
   "mimetype": "text/x-python",
   "name": "python",
   "nbconvert_exporter": "python",
   "pygments_lexer": "ipython3",
   "version": "3.7.3"
  }
 },
 "nbformat": 4,
 "nbformat_minor": 2
}

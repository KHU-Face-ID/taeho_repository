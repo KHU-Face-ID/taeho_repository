{
 "cells": [
  {
   "cell_type": "code",
   "execution_count": 3,
   "metadata": {},
   "outputs": [
    {
     "name": "stdout",
     "output_type": "stream",
     "text": [
      "size: 640.0 x 480.0\n"
     ]
    }
   ],
   "source": [
    "import cv2\n",
    "import datetime\n",
    "\n",
    "cap = cv2.VideoCapture(0); \n",
    "now = datetime.datetime.now().strftime(\"%y-%m-%d_%H-%M-%S\")\n",
    "width = cap.get(cv2.CAP_PROP_FRAME_WIDTH)\n",
    "height = cap.get(cv2.CAP_PROP_FRAME_HEIGHT)\n",
    "green = (0, 255, 0)\n",
    "magenta = (255, 0, 255)\n",
    "location = (0, 100)\n",
    "font = cv2.FONT_ITALIC\n",
    "temp = 1\n",
    "print(\"size: {0} x {1}\".format(width, height))\n",
    " \n",
    "# 영상 저장을 위한 VideoWriter 인스턴스 생성\n",
    "fourcc = cv2.VideoWriter_fourcc(*'XVID')\n",
    "\n",
    "#얼굴 인식용\n",
    "face_cascade = cv2.CascadeClassifier()\n",
    "face_cascade.load('haarcascade_frontalface_default.xml')\n",
    "\n",
    "while(True):\n",
    "    #파일로 부터 이미지 얻기\n",
    "    ret, frame = cap.read()\n",
    "    #더 이상 이미지가 없으면 종료\n",
    "    #재생 다 됨\n",
    "    if frame is None:\n",
    "        break;\n",
    "\n",
    "    # 얼굴인식 영상 처리\n",
    "    grayframe = cv2.cvtColor(frame, cv2.COLOR_BGR2GRAY)\n",
    "    blur =  cv2.GaussianBlur(grayframe,(5,5), 0)\n",
    "    faces = face_cascade.detectMultiScale(blur, 1.8, 2, 0, (50, 50))\n",
    "    \n",
    "    # 얼굴인식 여부 확인\n",
    "    if len(faces) == 0:\n",
    "        temp = 1\n",
    "    else:\n",
    "        temp += 1\n",
    "    \n",
    "    if temp < 4:\n",
    "        cv2.putText(frame,\"I can't recognize your face.\", location, font, 1, green, 2)\n",
    "    else:\n",
    "        cv2.putText(frame,\"I'm checking it now.\", location, font, 1, magenta, 2)\n",
    "        \n",
    "\n",
    "    # 얼굴 인식된 이미지 화면 표시\n",
    "    cv2.imshow('face_detect',frame)\n",
    "    \n",
    "    # 얼굴이 4프레임 이상 인식되면 4프레임마다 캡쳐\n",
    "    if temp%4 == 0:\n",
    "        print(\"캡쳐\")\n",
    "        cv2.imwrite(\"image/capture/\" + str(now) + \".png\", frame)  \n",
    "\n",
    " \n",
    "    # q 를 누르면 종료, x 를 누르면 캡쳐\n",
    "    if cv2.waitKey(1) & 0xFF == ord('q'): \n",
    "        break\n",
    " \n",
    "cap.release()\n",
    "cv2.destroyAllWindows()"
   ]
  }
 ],
 "metadata": {
  "kernelspec": {
   "display_name": "Python 3",
   "language": "python",
   "name": "python3"
  },
  "language_info": {
   "codemirror_mode": {
    "name": "ipython",
    "version": 3
   },
   "file_extension": ".py",
   "mimetype": "text/x-python",
   "name": "python",
   "nbconvert_exporter": "python",
   "pygments_lexer": "ipython3",
   "version": "3.7.3"
  }
 },
 "nbformat": 4,
 "nbformat_minor": 2
}
